{
 "cells": [
  {
   "cell_type": "code",
   "execution_count": null,
   "id": "19c11edf-05a6-4522-8a38-42019ffc0090",
   "metadata": {},
   "outputs": [],
   "source": []
  },
  {
   "cell_type": "code",
   "execution_count": 1,
   "id": "b19c92b0-cece-49ea-a9cb-3e2d455f0c2c",
   "metadata": {},
   "outputs": [],
   "source": [
    "#1a using the math module print the square root of 9,16,24,and 81"
   ]
  },
  {
   "cell_type": "code",
   "execution_count": 4,
   "id": "270623cb-404e-4ea4-8c0c-ea727a098d56",
   "metadata": {},
   "outputs": [
    {
     "name": "stdout",
     "output_type": "stream",
     "text": [
      "square root of [9, 16, 24, 81] is math.sqrt(num))\n",
      "square root of [9, 16, 24, 81] is math.sqrt(num))\n",
      "square root of [9, 16, 24, 81] is math.sqrt(num))\n",
      "square root of [9, 16, 24, 81] is math.sqrt(num))\n"
     ]
    }
   ],
   "source": [
    "import math \n",
    "# list of numbers\n",
    "numbers=[9,16,24,81]\n",
    "# calculate and print the square roots\n",
    "for num in numbers:\n",
    "    print(f\"square root of {numbers} is math.sqrt(num))\")"
   ]
  },
  {
   "cell_type": "code",
   "execution_count": 6,
   "id": "6192f19e-bd54-498b-96db-5048c78d510c",
   "metadata": {},
   "outputs": [
    {
     "name": "stdout",
     "output_type": "stream",
     "text": [
      "2* square root of (num)is 18.0\n"
     ]
    }
   ],
   "source": [
    "#1b mulitipy each answer in question1 by 2\n",
    "import math\n",
    "# list of numbers \n",
    "numbers = [9,16,24,81]\n",
    "#calculate, mutiply by 2 and print the result for num in numbers: \n",
    "result = math.sqrt(num)* 2\n",
    "print(f\"2* square root of (num)is {result}\")"
   ]
  },
  {
   "cell_type": "code",
   "execution_count": 8,
   "id": "86716fea-39a1-445c-ab73-f9c867e64bc1",
   "metadata": {},
   "outputs": [
    {
     "data": {
      "text/plain": [
       "21"
      ]
     },
     "execution_count": 8,
     "metadata": {},
     "output_type": "execute_result"
    }
   ],
   "source": [
    "2#using the random module generate a random number between 10 and 50\n",
    "import random \n",
    "random.randint(10,50)"
   ]
  },
  {
   "cell_type": "code",
   "execution_count": 9,
   "id": "a2e9a9e6-d5c2-4458-b9ac-cb49c70723c0",
   "metadata": {},
   "outputs": [
    {
     "data": {
      "text/plain": [
       "123"
      ]
     },
     "execution_count": 9,
     "metadata": {},
     "output_type": "execute_result"
    }
   ],
   "source": [
    "3#convert the '123' into an integer\n",
    "x='123'\n",
    "int(x)"
   ]
  },
  {
   "cell_type": "code",
   "execution_count": 18,
   "id": "54c074df-36fc-4d8d-9bec-6556fdaa353b",
   "metadata": {},
   "outputs": [
    {
     "data": {
      "text/plain": [
       "5"
      ]
     },
     "execution_count": 18,
     "metadata": {},
     "output_type": "execute_result"
    }
   ],
   "source": [
    "4#convert the number 5.9 into an integer\n",
    "x =5.9\n",
    "int(x)"
   ]
  },
  {
   "cell_type": "code",
   "execution_count": 10,
   "id": "43018f05-97d9-4e8c-96da-41e753108895",
   "metadata": {},
   "outputs": [
    {
     "data": {
      "text/plain": [
       "'27'"
      ]
     },
     "execution_count": 10,
     "metadata": {},
     "output_type": "execute_result"
    }
   ],
   "source": [
    "5#convert the number 27 into a string\n",
    "y = 27\n",
    "str(y)"
   ]
  },
  {
   "cell_type": "code",
   "execution_count": 12,
   "id": "0e00500a-db04-4e5e-819e-3ce237f1f9c3",
   "metadata": {},
   "outputs": [
    {
     "name": "stdout",
     "output_type": "stream",
     "text": [
      "1\n",
      "2\n",
      "3\n",
      "4\n",
      "5\n",
      "6\n",
      "7\n",
      "8\n",
      "9\n",
      "10\n",
      "11\n",
      "12\n",
      "13\n",
      "14\n",
      "15\n",
      "16\n",
      "17\n",
      "18\n",
      "19\n",
      "20\n"
     ]
    }
   ],
   "source": [
    "6#using the for loop print numbers from 1 to 20\n",
    "for numbers in range (1,21):\n",
    "    print(numbers)"
   ]
  },
  {
   "cell_type": "code",
   "execution_count": 15,
   "id": "a907886b-235f-4d6c-9f18-3a34716968b0",
   "metadata": {},
   "outputs": [
    {
     "name": "stdout",
     "output_type": "stream",
     "text": [
      "1\n",
      "4\n",
      "9\n",
      "16\n",
      "25\n"
     ]
    }
   ],
   "source": [
    "7# using the for loop,print the square of each number from 1 to 5\n",
    "for numbers in range(1,6):\n",
    "    print(numbers**2)"
   ]
  },
  {
   "cell_type": "code",
   "execution_count": 17,
   "id": "fd348c32-664d-4e74-9054-f43e51e73437",
   "metadata": {},
   "outputs": [
    {
     "data": {
      "text/plain": [
       "['Ammi', 'joy', 'bobo', 'Ammi', 'joy', 'bobo']"
      ]
     },
     "execution_count": 17,
     "metadata": {},
     "output_type": "execute_result"
    }
   ],
   "source": [
    "8# given a list of names print each name in upper case.\n",
    "names = ['Ammi','joy','bobo']\n",
    "names.append('Ammi')\n",
    "names.append('joy')\n",
    "names.append('bobo')\n",
    "names"
   ]
  },
  {
   "cell_type": "code",
   "execution_count": null,
   "id": "d1a9d590-a1b6-48a0-bc47-79bd6b4e68d8",
   "metadata": {},
   "outputs": [],
   "source": []
  }
 ],
 "metadata": {
  "kernelspec": {
   "display_name": "Python 3 (ipykernel)",
   "language": "python",
   "name": "python3"
  },
  "language_info": {
   "codemirror_mode": {
    "name": "ipython",
    "version": 3
   },
   "file_extension": ".py",
   "mimetype": "text/x-python",
   "name": "python",
   "nbconvert_exporter": "python",
   "pygments_lexer": "ipython3",
   "version": "3.12.4"
  }
 },
 "nbformat": 4,
 "nbformat_minor": 5
}
